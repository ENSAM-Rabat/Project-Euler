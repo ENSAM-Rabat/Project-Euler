{
 "cells": [
  {
   "cell_type": "markdown",
   "metadata": {},
   "source": [
    "Of course you can solve this problem with a simple `for` loop.<br/>\n",
    "<b>but let's me give you a clever way to do so.</b> <br>\n",
    "we know that:\n",
    "<p align='center'>\n",
    "<img src=\"https://render.githubusercontent.com/render/math?math=s_1 =\\sum_{i=1}^n i=\\frac{n(n%2b1)}{2}\"><br>\n",
    "and<br>\n",
    "<img src=\"https://render.githubusercontent.com/render/math?math=s_2=\\sum_{i=1}^n i^2=\\frac{n(n%2b1)(2n%2b+1)}{6}\">\n",
    "\n",
    "</p>"
   ]
  },
  {
   "cell_type": "markdown",
   "metadata": {},
   "source": [
    "So now for any value of `n` we can immediatly find out the sum square difference."
   ]
  },
  {
   "cell_type": "code",
   "execution_count": 5,
   "metadata": {},
   "outputs": [
    {
     "name": "stdout",
     "output_type": "stream",
     "text": [
      "25164150.0\n"
     ]
    }
   ],
   "source": [
    "n = 100\n",
    "s1  = n*(n + 1) / 2\n",
    "s2  = n*(n+1)*(2*n+1)/6\n",
    "print(s1**2-s2)"
   ]
  },
  {
   "cell_type": "markdown",
   "metadata": {},
   "source": [
    "<center>\n",
    "Huh!\n",
    "</center>"
   ]
  }
 ],
 "metadata": {
  "interpreter": {
   "hash": "e47b1a34c05c1e3b83a62d7885c9d1b5ef8a0522d3be0182d0a008ec409b2b3d"
  },
  "kernelspec": {
   "display_name": "Python 3.9.7 ('myenv')",
   "language": "python",
   "name": "python3"
  },
  "language_info": {
   "codemirror_mode": {
    "name": "ipython",
    "version": 3
   },
   "file_extension": ".py",
   "mimetype": "text/x-python",
   "name": "python",
   "nbconvert_exporter": "python",
   "pygments_lexer": "ipython3",
   "version": "3.9.7"
  },
  "orig_nbformat": 4
 },
 "nbformat": 4,
 "nbformat_minor": 2
}
